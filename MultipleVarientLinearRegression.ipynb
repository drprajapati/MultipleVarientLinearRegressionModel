{
 "cells": [
  {
   "cell_type": "markdown",
   "metadata": {},
   "source": [
    "<h2>Multiple Linear Regression Model</h2>"
   ]
  },
  {
   "cell_type": "markdown",
   "metadata": {},
   "source": [
    "<br>\n",
    "<ul>\n",
    "<h3>Importing Libraries</h3>\n",
    "<li>Pandas</li>\n",
    "<li>Numpy</li>\n",
    "<li>Matplotlib</li>\n",
    "</ul>"
   ]
  },
  {
   "cell_type": "code",
   "execution_count": 99,
   "metadata": {},
   "outputs": [],
   "source": [
    "import pandas as pd\n",
    "import numpy as np \n",
    "import matplotlib.pyplot as plt"
   ]
  },
  {
   "cell_type": "markdown",
   "metadata": {},
   "source": [
    "<h3>Fetching the dataset</h3>\n",
    "<p>The features that we'll use to predict the profit(labels) are :</p>\n",
    "<ol>\n",
    "    <li>R & D Spend</li>\n",
    "    <li>Adminstration</li>\n",
    "    <li>Marketing Spend</li>\n",
    "    <li>Profit</li>\n",
    "</ol>\n",
    "<p>Moreover, to speed up calculations for gradient descent, I will make each of the feature values in roughly the same range. This can be done by calculating the z-score of each feature value. This technique is known as <b>feature scaling</b> and <b>mean normalization.</b></p>"
   ]
  },
  {
   "cell_type": "code",
   "execution_count": 196,
   "metadata": {
    "scrolled": true
   },
   "outputs": [
    {
     "data": {
      "text/html": [
       "<div>\n",
       "<style scoped>\n",
       "    .dataframe tbody tr th:only-of-type {\n",
       "        vertical-align: middle;\n",
       "    }\n",
       "\n",
       "    .dataframe tbody tr th {\n",
       "        vertical-align: top;\n",
       "    }\n",
       "\n",
       "    .dataframe thead th {\n",
       "        text-align: right;\n",
       "    }\n",
       "</style>\n",
       "<table border=\"1\" class=\"dataframe\">\n",
       "  <thead>\n",
       "    <tr style=\"text-align: right;\">\n",
       "      <th></th>\n",
       "      <th>R&amp;D Spend</th>\n",
       "      <th>Administration</th>\n",
       "      <th>Marketing Spend</th>\n",
       "      <th>State</th>\n",
       "      <th>Profit</th>\n",
       "    </tr>\n",
       "  </thead>\n",
       "  <tbody>\n",
       "    <tr>\n",
       "      <th>0</th>\n",
       "      <td>165349</td>\n",
       "      <td>136898</td>\n",
       "      <td>471784</td>\n",
       "      <td>New York</td>\n",
       "      <td>192262</td>\n",
       "    </tr>\n",
       "    <tr>\n",
       "      <th>1</th>\n",
       "      <td>162598</td>\n",
       "      <td>151378</td>\n",
       "      <td>443899</td>\n",
       "      <td>California</td>\n",
       "      <td>191792</td>\n",
       "    </tr>\n",
       "    <tr>\n",
       "      <th>2</th>\n",
       "      <td>153442</td>\n",
       "      <td>101146</td>\n",
       "      <td>407935</td>\n",
       "      <td>Florida</td>\n",
       "      <td>191050</td>\n",
       "    </tr>\n",
       "    <tr>\n",
       "      <th>3</th>\n",
       "      <td>144372</td>\n",
       "      <td>118672</td>\n",
       "      <td>383200</td>\n",
       "      <td>New York</td>\n",
       "      <td>182902</td>\n",
       "    </tr>\n",
       "    <tr>\n",
       "      <th>4</th>\n",
       "      <td>142107</td>\n",
       "      <td>91392</td>\n",
       "      <td>366168</td>\n",
       "      <td>Florida</td>\n",
       "      <td>166188</td>\n",
       "    </tr>\n",
       "  </tbody>\n",
       "</table>\n",
       "</div>"
      ],
      "text/plain": [
       "   R&D Spend  Administration  Marketing Spend       State  Profit\n",
       "0     165349          136898           471784    New York  192262\n",
       "1     162598          151378           443899  California  191792\n",
       "2     153442          101146           407935     Florida  191050\n",
       "3     144372          118672           383200    New York  182902\n",
       "4     142107           91392           366168     Florida  166188"
      ]
     },
     "execution_count": 196,
     "metadata": {},
     "output_type": "execute_result"
    }
   ],
   "source": [
    "dataset = pd.read_csv(r\"50_Startups.csv\")\n",
    "independent_var = dataset.iloc[:,:-2]\n",
    "ones = np.ones([independent_var.shape[0],1])\n",
    "independent_var = np.concatenate((ones,independent_var),axis=1)\n",
    "\n",
    "dependent_var = dataset.iloc[:,4].values\n",
    "dataset.head()"
   ]
  },
  {
   "cell_type": "code",
   "execution_count": 184,
   "metadata": {},
   "outputs": [
    {
     "name": "stdout",
     "output_type": "stream",
     "text": [
      "[192261.83 191792.06 191050.39 182901.99 166187.94 156991.12 156122.51\n",
      " 155752.6  152211.77 149759.96]\n",
      "[[1.0000000e+00 1.6534920e+05 1.3689780e+05 4.7178410e+05]\n",
      " [1.0000000e+00 1.6259770e+05 1.5137759e+05 4.4389853e+05]\n",
      " [1.0000000e+00 1.5344151e+05 1.0114555e+05 4.0793454e+05]\n",
      " [1.0000000e+00 1.4437241e+05 1.1867185e+05 3.8319962e+05]\n",
      " [1.0000000e+00 1.4210734e+05 9.1391770e+04 3.6616842e+05]\n",
      " [1.0000000e+00 1.3187690e+05 9.9814710e+04 3.6286136e+05]\n",
      " [1.0000000e+00 1.3461546e+05 1.4719887e+05 1.2771682e+05]\n",
      " [1.0000000e+00 1.3029813e+05 1.4553006e+05 3.2387668e+05]\n",
      " [1.0000000e+00 1.2054252e+05 1.4871895e+05 3.1161329e+05]\n",
      " [1.0000000e+00 1.2333488e+05 1.0867917e+05 3.0498162e+05]]\n"
     ]
    }
   ],
   "source": [
    "print(dependent_var[:10])\n",
    "print(independent_var[:10])"
   ]
  },
  {
   "cell_type": "markdown",
   "metadata": {},
   "source": [
    "<h3>Normalizing the dataset</h3>\n",
    "<p>As we know that normalizing the dataset is necessary. So by using this formula<img src=\"index.png\"> and then plotted the graph using matplotlib library</p>"
   ]
  },
  {
   "cell_type": "code",
   "execution_count": 204,
   "metadata": {},
   "outputs": [
    {
     "name": "stdout",
     "output_type": "stream",
     "text": [
      "[[-1.00333607  0.63078923  0.34960593  3.65926504]\n",
      " [-1.00333607  0.60359634  0.49270874  3.3836738 ]\n",
      " [-1.00333607  0.51310632 -0.00373119  3.02824407]\n",
      " [-1.00333607  0.42347701  0.16948008  2.7837905 ]\n",
      " [-1.00333607  0.40109147 -0.10012715  2.61547227]]\n",
      "(50, 4)\n"
     ]
    },
    {
     "data": {
      "image/png": "[encoded data removed]",
      "text/plain": [
       "<matplotlib.figure.Figure at 0x271286a9eb8>"
      ]
     },
     "metadata": {},
     "output_type": "display_data"
    }
   ],
   "source": [
    "independent_var = (independent_var - independent_var.mean())/independent_var.std()\n",
    "print(independent_var[:5])\n",
    "print(independent_var.shape)\n",
    "\n",
    "plt.scatter(independent_var[:,1], dependent_var, color=\"green\")\n",
    "plt.xlabel('Normalized data')\n",
    "plt.ylabel('Profit')\n",
    "plt.title('Before Regression')\n",
    "plt.show()"
   ]
  },
  {
   "cell_type": "markdown",
   "metadata": {},
   "source": [
    "<h3>Adding 1's to the feature matrix</h3>\n",
    "\n",
    "<p>We add ones to the feature index 0 for all training examples as this allows us to do matrix operations with theta and x. Hence, making the two vectors 'theta' and 'x(i)' match each other element-wise i.e have the same number of elements.</p>"
   ]
  },
  {
   "cell_type": "code",
   "execution_count": 132,
   "metadata": {},
   "outputs": [
    {
     "name": "stdout",
     "output_type": "stream",
     "text": [
      "[[ 1.          0.31484664  0.01610715  3.53241077]\n",
      " [ 1.          0.28595591  0.16814484  3.2396125 ]\n",
      " [ 1.          0.18981598 -0.3592912   2.86199087]\n",
      " [ 1.          0.0945905  -0.17526518  2.6022744 ]\n",
      " [ 1.          0.07080728 -0.46170582  2.42344693]]\n",
      "(50, 4)\n"
     ]
    }
   ],
   "source": [
    "independent_var = np.column_stack((np.ones(len(dependent_var)),independent_var))\n",
    "print(independent_var[:5])\n",
    "print(independent_var.shape)"
   ]
  },
  {
   "cell_type": "markdown",
   "metadata": {},
   "source": [
    "<h3>Optimizing parameters for our multivariate linear regression</h3>\n",
    "\n",
    "<p>In gradient descent, we estimate the parameters in the hypothesis function that leads to minimization of the cost function. In other words, we try to get the optimal values of theta such that our regression line fits the data well.</p>\n",
    "\n",
    "<p>The way we do this is by taking the derivative (the tangent line to a function) of our cost function. The slope of the tangent is the derivative at that point and it will give us a direction to move towards. We make steps down the cost function in the direction with the steepest descent. The size of each step is determined by the parameter alpha, which is called the <b>learning rate.</b></p> "
   ]
  },
  {
   "cell_type": "code",
   "execution_count": 205,
   "metadata": {},
   "outputs": [
    {
     "name": "stdout",
     "output_type": "stream",
     "text": [
      "[21911.04037475 21911.04037475 21911.04037475 21911.04037475]\n"
     ]
    }
   ],
   "source": [
    "def calculate_error(theta, x, y):\n",
    "    return np.subtract(np.dot(x, theta), y)\n",
    "\n",
    "def calculate_gradient(cost, x):\n",
    "    return np.sum(np.dot(np.transpose(x), cost)) / x.shape[0]\n",
    "\n",
    "def gradient_descent(x, y, alpha=0.5, epochs=10000):\n",
    "    theta = np.zeros(x.shape[1])\n",
    "    for _ in range(epochs):\n",
    "        cost = calculate_error(theta, x, y)\n",
    "        gradient = calculate_gradient(cost, x)\n",
    "        theta = theta - alpha * gradient\n",
    "    return theta\n",
    "\n",
    "optimized_theta = gradient_descent(independent_var, dependent_var)\n",
    "print(optimized_theta)\n",
    "\n",
    "theta0, theta1 = optimized_theta[0], optimized_theta[2]"
   ]
  },
  {
   "cell_type": "code",
   "execution_count": null,
   "metadata": {},
   "outputs": [],
   "source": []
  },
  {
   "cell_type": "code",
   "execution_count": 206,
   "metadata": {},
   "outputs": [
    {
     "data": {
      "image/png": "[encoded data removed]",
      "text/plain": [
       "<matplotlib.figure.Figure at 0x2712877b080>"
      ]
     },
     "metadata": {},
     "output_type": "display_data"
    }
   ],
   "source": [
    "plt.scatter(independent_var[:,1], dependent_var, color=\"green\")\n",
    "plt.plot(independent_var[:,1], theta0 + theta1 * independent_var[:,1], color=\"red\")\n",
    "plt.show()"
   ]
  },
  {
   "cell_type": "code",
   "execution_count": null,
   "metadata": {},
   "outputs": [],
   "source": []
  },
  {
   "cell_type": "code",
   "execution_count": null,
   "metadata": {},
   "outputs": [],
   "source": []
  }
 ],
 "metadata": {
  "kernelspec": {
   "display_name": "Python 3",
   "language": "python",
   "name": "python3"
  },
  "language_info": {
   "codemirror_mode": {
    "name": "ipython",
    "version": 3
   },
   "file_extension": ".py",
   "mimetype": "text/x-python",
   "name": "python",
   "nbconvert_exporter": "python",
   "pygments_lexer": "ipython3",
   "version": "3.6.4"
  }
 },
 "nbformat": 4,
 "nbformat_minor": 2
}
